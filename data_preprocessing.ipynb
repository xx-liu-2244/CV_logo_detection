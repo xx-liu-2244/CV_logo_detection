{
 "cells": [
  {
   "cell_type": "markdown",
   "id": "151a23d4",
   "metadata": {},
   "source": [
    "# Logo Detection - Data Preprocessing"
   ]
  },
  {
   "cell_type": "code",
   "execution_count": 1,
   "id": "747f0d9f",
   "metadata": {},
   "outputs": [],
   "source": [
    "import pandas as pd\n",
    "import numpy as np\n",
    "import os\n",
    "import shutil"
   ]
  },
  {
   "cell_type": "code",
   "execution_count": 5,
   "id": "acc7043e",
   "metadata": {},
   "outputs": [],
   "source": [
    "IMAGES_PATH = 'train' #folder with all the images. Change paths based on the working directory\n",
    "ANNOT_PATH = 'annot_train.csv'  #original csv file with all the annotations"
   ]
  },
  {
   "cell_type": "code",
   "execution_count": 6,
   "id": "61166452",
   "metadata": {},
   "outputs": [
    {
     "data": {
      "text/plain": [
       "(38913, 46163)"
      ]
     },
     "execution_count": 6,
     "metadata": {},
     "output_type": "execute_result"
    }
   ],
   "source": [
    "files_name = os.listdir(IMAGES_PATH) \n",
    "annot_data = pd.read_csv(ANNOT_PATH)\n",
    "len(files_name), len(annot_data)"
   ]
  },
  {
   "cell_type": "markdown",
   "id": "5ce4a60f",
   "metadata": {},
   "source": [
    "Note: the total image annotations are more than the images themselves in the folder. We will just discard those in excess and consider as base line the 38,913 image files."
   ]
  },
  {
   "cell_type": "markdown",
   "id": "52f16706",
   "metadata": {},
   "source": [
    "Moving images in the `train` folder to a new one called `test` with a 80/20 ratio. Note: make sure to have created beforehand the `test` folder."
   ]
  },
  {
   "cell_type": "code",
   "execution_count": null,
   "id": "02f2aa97",
   "metadata": {},
   "outputs": [],
   "source": [
    "np.random.seed(123)\n",
    "for f in files_name:\n",
    "    if np.random.rand(1) < 0.2:\n",
    "        shutil.move(IMAGES_PATH+f, 'test/'+f)  #make sure to have already created 'test' folder in the directory"
   ]
  },
  {
   "cell_type": "code",
   "execution_count": 7,
   "id": "65e1b3d4",
   "metadata": {},
   "outputs": [
    {
     "data": {
      "text/plain": [
       "(31154, 7759)"
      ]
     },
     "execution_count": 7,
     "metadata": {},
     "output_type": "execute_result"
    }
   ],
   "source": [
    "#getting file names in train and test folder \n",
    "train_files = os.listdir('train')\n",
    "test_files = os.listdir('test')\n",
    "len(train_files), len(test_files) #checking the length"
   ]
  },
  {
   "cell_type": "markdown",
   "id": "98bf3922",
   "metadata": {},
   "source": [
    "Target labels - Logos to be predicted"
   ]
  },
  {
   "cell_type": "code",
   "execution_count": 4,
   "id": "856c3f76",
   "metadata": {},
   "outputs": [],
   "source": [
    "# Target labels\n",
    "logos = ['Adidas','Apple Inc.','Chanel','Coca-Cola','Emirates','Hard Rock Cafe','Mercedes-Benz','NFL',\\\n",
    "         'Nike','Pepsi','Puma','Starbucks','The North Face','Toyota','Under Armour']"
   ]
  },
  {
   "cell_type": "markdown",
   "id": "f4a29bc3",
   "metadata": {},
   "source": [
    "Splitting the annotations file in `.csv` based on the two images sets created. If the logo is not one present in the `logos` list, we consider it as `Other`. Afterwards, saving the new annotations for train and test into csv files."
   ]
  },
  {
   "cell_type": "code",
   "execution_count": 8,
   "id": "c6ea1074",
   "metadata": {},
   "outputs": [],
   "source": [
    "annot_train = annot_data[annot_data.filename.isin(train_files)]\n",
    "annot_train['image_id'] = [i for i in range(len(annot_train))] #column required for running detecto\n",
    "annot_train.loc[~annot_train['class'].isin(logos),'class'] = 'Other'\n",
    "annot_train.to_csv('annot_train.csv')\n",
    "\n",
    "annot_test = annot_data[annot_data.filename.isin(test_files)]\n",
    "annot_test.loc[~annot_test['class'].isin(logos),'class'] = 'Other'\n",
    "annot_test.to_csv('annot_test.csv')"
   ]
  },
  {
   "cell_type": "code",
   "execution_count": 9,
   "id": "f1be5729",
   "metadata": {},
   "outputs": [
    {
     "data": {
      "text/plain": [
       "(31154, 7759)"
      ]
     },
     "execution_count": 9,
     "metadata": {},
     "output_type": "execute_result"
    }
   ],
   "source": [
    "#checking the csv are of the same length as the number of image files\n",
    "len(annot_train), len(annot_test)"
   ]
  }
 ],
 "metadata": {
  "kernelspec": {
   "display_name": "Python 3",
   "language": "python",
   "name": "python3"
  },
  "language_info": {
   "codemirror_mode": {
    "name": "ipython",
    "version": 3
   },
   "file_extension": ".py",
   "mimetype": "text/x-python",
   "name": "python",
   "nbconvert_exporter": "python",
   "pygments_lexer": "ipython3",
   "version": "3.8.10"
  }
 },
 "nbformat": 4,
 "nbformat_minor": 5
}
